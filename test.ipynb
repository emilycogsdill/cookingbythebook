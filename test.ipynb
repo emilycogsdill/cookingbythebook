{
 "cells": [
  {
   "cell_type": "code",
   "execution_count": 9,
   "metadata": {},
   "outputs": [],
   "source": [
    "from flask import Flask, render_template\n",
    "from flask import Flask, render_template, redirect, url_for\n",
    "from flask_bootstrap import Bootstrap\n",
    "from flask_wtf import FlaskForm\n",
    "from wtforms import StringField, SubmitField\n",
    "from wtforms.validators import DataRequired\n",
    "from modules import * "
   ]
  },
  {
   "cell_type": "code",
   "execution_count": 14,
   "metadata": {},
   "outputs": [],
   "source": [
    "app = Flask(__name__)\n",
    "application = app\n",
    "\n",
    "# create a list of dicts from a CSV\n",
    "recipes_list = convert_to_dict(\"recipe_info.csv\")"
   ]
  },
  {
   "cell_type": "code",
   "execution_count": 99,
   "metadata": {},
   "outputs": [],
   "source": [
    "# find the row that matches the name in the form and retrieve matching id\n",
    "def get_ids_list(source, name):\n",
    "    output_list=[]\n",
    "    all_titles = [x[\"Title\"] for x in source]\n",
    "    for row in source:\n",
    "        # lower() makes the string all lowercase\n",
    "        if name.lower() in row[\"Title\"].lower():\n",
    "            id = row[\"id\"]\n",
    "            # change number to string\n",
    "            id = str(id)\n",
    "            # return id if name is valid\n",
    "            output_list.append(id)\n",
    "    # return these if id is not valid - not a great solution, but simple\n",
    "    return(output_list)"
   ]
  },
  {
   "cell_type": "code",
   "execution_count": 100,
   "metadata": {},
   "outputs": [],
   "source": [
    "def get_recipe_titles_from_ids(source, ids_list):\n",
    "    titles_list=[]\n",
    "    for id_val in ids_list:\n",
    "        recipe=list(filter(lambda recipe: recipe['id'] == id_val, source))[0]['Title']\n",
    "        titles_list.append(recipe)\n",
    "    return titles_list"
   ]
  },
  {
   "cell_type": "code",
   "execution_count": 101,
   "metadata": {},
   "outputs": [],
   "source": [
    "ids_list=get_id(recipes_list, 'tofu')"
   ]
  },
  {
   "cell_type": "code",
   "execution_count": 102,
   "metadata": {},
   "outputs": [],
   "source": [
    "titles_list = get_recipe_titles_from_ids(source, ids_list)"
   ]
  },
  {
   "cell_type": "code",
   "execution_count": 95,
   "metadata": {},
   "outputs": [],
   "source": [
    "message = \"Multiple recipes found: \" + ', '.join([x for x in titles_list])"
   ]
  },
  {
   "cell_type": "code",
   "execution_count": 104,
   "metadata": {},
   "outputs": [],
   "source": [
    "results_list = []\n",
    "name='tofu'        \n",
    "#get all recipe ids and titles\n",
    "#TODO: make a single function that returns tuples\n",
    "ids_list = get_ids_list(recipes_list, name)\n",
    "titles_list = get_recipe_titles_from_ids(recipes_list, ids_list)\n",
    "\n",
    "for t in range(len(ids_list)):\n",
    "    results_list.append( (ids_list[t], titles_list[t]))"
   ]
  },
  {
   "cell_type": "code",
   "execution_count": 105,
   "metadata": {},
   "outputs": [
    {
     "data": {
      "text/plain": [
       "[('2', 'Tofu \"Fried Chicken\"'), ('4', 'Tofu \"Fried Chicken\" v2')]"
      ]
     },
     "execution_count": 105,
     "metadata": {},
     "output_type": "execute_result"
    }
   ],
   "source": [
    "results_list"
   ]
  },
  {
   "cell_type": "code",
   "execution_count": null,
   "metadata": {},
   "outputs": [],
   "source": [
    "message = f\"Found multiple recipes including {name.lower()}:"
   ]
  },
  {
   "cell_type": "code",
   "execution_count": 32,
   "metadata": {},
   "outputs": [
    {
     "name": "stdout",
     "output_type": "stream",
     "text": [
      "None\n"
     ]
    }
   ],
   "source": [
    "print(next((item for item in source if item[\"id\"] == 1), None))"
   ]
  },
  {
   "cell_type": "code",
   "execution_count": 51,
   "metadata": {},
   "outputs": [
    {
     "name": "stdout",
     "output_type": "stream",
     "text": [
      "2\n",
      "[]\n"
     ]
    }
   ],
   "source": [
    "for id_val in ['2']:\n",
    "    print(str(id_val))\n",
    "    print(list(filter(lambda recipe: recipe['id'] == {id_val}, source)))"
   ]
  },
  {
   "cell_type": "code",
   "execution_count": 63,
   "metadata": {},
   "outputs": [
    {
     "name": "stdout",
     "output_type": "stream",
     "text": [
      "Tofu \"Fried Chicken\"\n",
      "Tofu \"Fried Chicken\" v2\n"
     ]
    }
   ],
   "source": [
    "for id_val in ['2','4']:\n",
    "    recipe=list(filter(lambda recipe: recipe['id'] == id_val, source))[0]['Title']\n",
    "    print(recipe)"
   ]
  },
  {
   "cell_type": "code",
   "execution_count": 28,
   "metadata": {},
   "outputs": [
    {
     "ename": "AttributeError",
     "evalue": "'dict_values' object has no attribute 'id'",
     "output_type": "error",
     "traceback": [
      "\u001b[0;31m---------------------------------------------------------------------------\u001b[0m",
      "\u001b[0;31mAttributeError\u001b[0m                            Traceback (most recent call last)",
      "\u001b[0;32m<ipython-input-28-2a093727e770>\u001b[0m in \u001b[0;36m<module>\u001b[0;34m\u001b[0m\n\u001b[1;32m      1\u001b[0m \u001b[0;31m#mydict = {'george': 16, 'amber': 19}\u001b[0m\u001b[0;34m\u001b[0m\u001b[0;34m\u001b[0m\u001b[0;34m\u001b[0m\u001b[0m\n\u001b[0;32m----> 2\u001b[0;31m \u001b[0mprint\u001b[0m\u001b[0;34m(\u001b[0m\u001b[0mdict_1\u001b[0m\u001b[0;34m.\u001b[0m\u001b[0mkeys\u001b[0m\u001b[0;34m(\u001b[0m\u001b[0;34m)\u001b[0m\u001b[0;34m[\u001b[0m\u001b[0mdict_1\u001b[0m\u001b[0;34m.\u001b[0m\u001b[0mvalues\u001b[0m\u001b[0;34m(\u001b[0m\u001b[0;34m)\u001b[0m\u001b[0;34m.\u001b[0m\u001b[0mid\u001b[0m\u001b[0;34m(\u001b[0m\u001b[0;36m16\u001b[0m\u001b[0;34m)\u001b[0m\u001b[0;34m]\u001b[0m\u001b[0;34m)\u001b[0m\u001b[0;34m\u001b[0m\u001b[0;34m\u001b[0m\u001b[0m\n\u001b[0m",
      "\u001b[0;31mAttributeError\u001b[0m: 'dict_values' object has no attribute 'id'"
     ]
    }
   ],
   "source": [
    "#mydict = {'george': 16, 'amber': 19}\n",
    "print(dict_1.keys()[dict_1.values().id(16)])"
   ]
  },
  {
   "cell_type": "code",
   "execution_count": 18,
   "metadata": {},
   "outputs": [],
   "source": [
    "def get_recipe_titles_from_ids(source, ids_list):\n",
    "    for id in ids_list:\n",
    "        print(source[id])"
   ]
  },
  {
   "cell_type": "code",
   "execution_count": 31,
   "metadata": {},
   "outputs": [
    {
     "data": {
      "text/plain": [
       "True"
      ]
     },
     "execution_count": 31,
     "metadata": {},
     "output_type": "execute_result"
    }
   ],
   "source": [
    "name='well'\n",
    "any('well' in x.lower() for x in all_titles)"
   ]
  },
  {
   "cell_type": "code",
   "execution_count": 21,
   "metadata": {},
   "outputs": [
    {
     "data": {
      "text/plain": [
       "['Vegan Wellington', 'Tofu \"Fried Chicken\"', 'Crappy dumb recipe']"
      ]
     },
     "execution_count": 21,
     "metadata": {},
     "output_type": "execute_result"
    }
   ],
   "source": [
    "all_titles"
   ]
  },
  {
   "cell_type": "code",
   "execution_count": 12,
   "metadata": {},
   "outputs": [],
   "source": [
    "titles = get_recipe_titles(recipes_list)"
   ]
  },
  {
   "cell_type": "code",
   "execution_count": 13,
   "metadata": {},
   "outputs": [
    {
     "data": {
      "text/plain": [
       "['crappy dumb recipe', 'tofu \"fried chicken\"', 'vegan wellington']"
      ]
     },
     "execution_count": 13,
     "metadata": {},
     "output_type": "execute_result"
    }
   ],
   "source": [
    "titles"
   ]
  },
  {
   "cell_type": "code",
   "execution_count": 8,
   "metadata": {},
   "outputs": [
    {
     "data": {
      "text/plain": [
       "[{'Timestamp_entered': '11/27/2020 9:21:23',\n",
       "  'Timestamp_prepared': '11/26/2020',\n",
       "  'id': '1',\n",
       "  'URL': 'https://fullofplants.com/vegan-wellington/',\n",
       "  'Title': 'Vegan Wellington',\n",
       "  'Keywords': 'seitan, Thanksgiving, roast, puff pastry, wellington, oven',\n",
       "  'Ingredients': 'vital wheat gluten, beets, a whole lotta gumption',\n",
       "  'Instructions': 'Just fuckin do it all up',\n",
       "  'Notes': 'It was amazing',\n",
       "  'Make_again': 'yes',\n",
       "  'Things_to_try': 'use the correct amount of beans, make less \"log\" overall, add a bit more seasoning, try adding a little pea protein',\n",
       "  'Image': 'pr01.jpg'},\n",
       " {'Timestamp_entered': '11/28/2020 11:24:52',\n",
       "  'Timestamp_prepared': '11/27/2020',\n",
       "  'id': '2',\n",
       "  'URL': 'https://pastebin.com/BDegVJKt',\n",
       "  'Title': 'Tofu \"Fried Chicken\"',\n",
       "  'Keywords': 'tofu, chicken, vegan',\n",
       "  'Ingredients': 'tofu, breading shit',\n",
       "  'Instructions': 'Freeze the tofu. Thaw it. Freeze it again. Thaw it again. Then do the rest of the recipe',\n",
       "  'Notes': 'Thawed twice!',\n",
       "  'Make_again': 'maybe',\n",
       "  'Things_to_try': '',\n",
       "  'Image': 'pr02.jpg'},\n",
       " {'Timestamp_entered': '11/22/2020 2:36:11',\n",
       "  'Timestamp_prepared': '11/22/2020',\n",
       "  'id': '3',\n",
       "  'URL': '',\n",
       "  'Title': 'Crappy dumb recipe',\n",
       "  'Keywords': 'bad, went poorly',\n",
       "  'Ingredients': 'literally just some garbage',\n",
       "  'Instructions': 'put it on a plate and eat it',\n",
       "  'Notes': 'this is not a good recipe',\n",
       "  'Make_again': 'no',\n",
       "  'Things_to_try': '',\n",
       "  'Image': 'pr03.jpg'}]"
      ]
     },
     "execution_count": 8,
     "metadata": {},
     "output_type": "execute_result"
    }
   ],
   "source": [
    "recipes_list"
   ]
  },
  {
   "cell_type": "code",
   "execution_count": null,
   "metadata": {},
   "outputs": [],
   "source": []
  }
 ],
 "metadata": {
  "kernelspec": {
   "display_name": "Python 3",
   "language": "python",
   "name": "python3"
  },
  "language_info": {
   "codemirror_mode": {
    "name": "ipython",
    "version": 3
   },
   "file_extension": ".py",
   "mimetype": "text/x-python",
   "name": "python",
   "nbconvert_exporter": "python",
   "pygments_lexer": "ipython3",
   "version": "3.8.6"
  }
 },
 "nbformat": 4,
 "nbformat_minor": 4
}
