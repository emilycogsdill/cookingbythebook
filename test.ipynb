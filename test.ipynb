{
 "cells": [
  {
   "cell_type": "code",
   "execution_count": 2,
   "metadata": {},
   "outputs": [],
   "source": [
    "from flask import Flask, render_template\n",
    "from flask import Flask, render_template, redirect, url_for\n",
    "from flask_bootstrap import Bootstrap\n",
    "from flask_wtf import FlaskForm\n",
    "from wtforms import StringField, SubmitField\n",
    "from wtforms.validators import DataRequired\n",
    "from modules import * "
   ]
  },
  {
   "cell_type": "code",
   "execution_count": 3,
   "metadata": {},
   "outputs": [],
   "source": [
    "app = Flask(__name__)\n",
    "application = app\n",
    "\n",
    "# create a list of dicts from a CSV\n",
    "recipes_list = convert_to_dict(\"recipe_info.csv\")"
   ]
  },
  {
   "cell_type": "code",
   "execution_count": 9,
   "metadata": {},
   "outputs": [],
   "source": [
    "# retrieve all the names from the dataset and put them into a list\n",
    "def get_recipe_titles(source):\n",
    "    titles = []\n",
    "    for row in source:\n",
    "        # lowercase all the names for better searching\n",
    "        title = row[\"Title\"].lower()\n",
    "        titles.append(title)\n",
    "    return sorted(titles)"
   ]
  },
  {
   "cell_type": "code",
   "execution_count": 49,
   "metadata": {},
   "outputs": [],
   "source": [
    "# find the row that matches the name in the form and retrieve matching id\n",
    "def get_id(source, name):\n",
    "    all_titles = [x[\"Title\"] for x in source]\n",
    "    for row in source:\n",
    "        # lower() makes the string all lowercase\n",
    "        if name.lower() in row[\"Title\"].lower():\n",
    "            id = row[\"id\"]\n",
    "            # change number to string\n",
    "            id = str(id)\n",
    "            # return id if name is valid\n",
    "            return id\n",
    "    # return these if id is not valid - not a great solution, but simple\n",
    "    return \"Unknown\""
   ]
  },
  {
   "cell_type": "code",
   "execution_count": 48,
   "metadata": {},
   "outputs": [
    {
     "name": "stdout",
     "output_type": "stream",
     "text": [
      "Vegan Wellington\n",
      "\n",
      "False\n",
      "Tofu \"Fried Chicken\"\n",
      "\n",
      "True\n",
      "Crappy dumb recipe\n",
      "\n",
      "False\n"
     ]
    }
   ],
   "source": [
    "source=recipes_list\n",
    "all_titles = [x[\"Title\"] for x in source]\n",
    "name='tofu'\n",
    "for row in source:\n",
    "    print(row[\"Title\"])\n",
    "    print(\"\")\n",
    "    print(name.lower() in row[\"Title\"].lower())\n",
    " #   print(row)\n",
    "   ## lower() makes the string all lowercase\n",
    "   #if any(name.lower() in x.lower() for x in all_titles):\n",
    "   #    id = row[\"id\"]\n",
    "   #    # change number to string\n",
    "   #    id = str(id)\n",
    "   #    # return id if name is valid\n",
    "   #    return id"
   ]
  },
  {
   "cell_type": "code",
   "execution_count": 50,
   "metadata": {},
   "outputs": [
    {
     "data": {
      "text/plain": [
       "'2'"
      ]
     },
     "execution_count": 50,
     "metadata": {},
     "output_type": "execute_result"
    }
   ],
   "source": [
    "get_id(recipes_list, 'tofu')"
   ]
  },
  {
   "cell_type": "code",
   "execution_count": 31,
   "metadata": {},
   "outputs": [
    {
     "data": {
      "text/plain": [
       "True"
      ]
     },
     "execution_count": 31,
     "metadata": {},
     "output_type": "execute_result"
    }
   ],
   "source": [
    "name='well'\n",
    "any('well' in x.lower() for x in all_titles)"
   ]
  },
  {
   "cell_type": "code",
   "execution_count": 21,
   "metadata": {},
   "outputs": [
    {
     "data": {
      "text/plain": [
       "['Vegan Wellington', 'Tofu \"Fried Chicken\"', 'Crappy dumb recipe']"
      ]
     },
     "execution_count": 21,
     "metadata": {},
     "output_type": "execute_result"
    }
   ],
   "source": [
    "all_titles"
   ]
  },
  {
   "cell_type": "code",
   "execution_count": 12,
   "metadata": {},
   "outputs": [],
   "source": [
    "titles = get_recipe_titles(recipes_list)"
   ]
  },
  {
   "cell_type": "code",
   "execution_count": 13,
   "metadata": {},
   "outputs": [
    {
     "data": {
      "text/plain": [
       "['crappy dumb recipe', 'tofu \"fried chicken\"', 'vegan wellington']"
      ]
     },
     "execution_count": 13,
     "metadata": {},
     "output_type": "execute_result"
    }
   ],
   "source": [
    "titles"
   ]
  },
  {
   "cell_type": "code",
   "execution_count": 8,
   "metadata": {},
   "outputs": [
    {
     "data": {
      "text/plain": [
       "[{'Timestamp_entered': '11/27/2020 9:21:23',\n",
       "  'Timestamp_prepared': '11/26/2020',\n",
       "  'id': '1',\n",
       "  'URL': 'https://fullofplants.com/vegan-wellington/',\n",
       "  'Title': 'Vegan Wellington',\n",
       "  'Keywords': 'seitan, Thanksgiving, roast, puff pastry, wellington, oven',\n",
       "  'Ingredients': 'vital wheat gluten, beets, a whole lotta gumption',\n",
       "  'Instructions': 'Just fuckin do it all up',\n",
       "  'Notes': 'It was amazing',\n",
       "  'Make_again': 'yes',\n",
       "  'Things_to_try': 'use the correct amount of beans, make less \"log\" overall, add a bit more seasoning, try adding a little pea protein',\n",
       "  'Image': 'pr01.jpg'},\n",
       " {'Timestamp_entered': '11/28/2020 11:24:52',\n",
       "  'Timestamp_prepared': '11/27/2020',\n",
       "  'id': '2',\n",
       "  'URL': 'https://pastebin.com/BDegVJKt',\n",
       "  'Title': 'Tofu \"Fried Chicken\"',\n",
       "  'Keywords': 'tofu, chicken, vegan',\n",
       "  'Ingredients': 'tofu, breading shit',\n",
       "  'Instructions': 'Freeze the tofu. Thaw it. Freeze it again. Thaw it again. Then do the rest of the recipe',\n",
       "  'Notes': 'Thawed twice!',\n",
       "  'Make_again': 'maybe',\n",
       "  'Things_to_try': '',\n",
       "  'Image': 'pr02.jpg'},\n",
       " {'Timestamp_entered': '11/22/2020 2:36:11',\n",
       "  'Timestamp_prepared': '11/22/2020',\n",
       "  'id': '3',\n",
       "  'URL': '',\n",
       "  'Title': 'Crappy dumb recipe',\n",
       "  'Keywords': 'bad, went poorly',\n",
       "  'Ingredients': 'literally just some garbage',\n",
       "  'Instructions': 'put it on a plate and eat it',\n",
       "  'Notes': 'this is not a good recipe',\n",
       "  'Make_again': 'no',\n",
       "  'Things_to_try': '',\n",
       "  'Image': 'pr03.jpg'}]"
      ]
     },
     "execution_count": 8,
     "metadata": {},
     "output_type": "execute_result"
    }
   ],
   "source": [
    "recipes_list"
   ]
  },
  {
   "cell_type": "code",
   "execution_count": null,
   "metadata": {},
   "outputs": [],
   "source": []
  }
 ],
 "metadata": {
  "kernelspec": {
   "display_name": "Python 3",
   "language": "python",
   "name": "python3"
  },
  "language_info": {
   "codemirror_mode": {
    "name": "ipython",
    "version": 3
   },
   "file_extension": ".py",
   "mimetype": "text/x-python",
   "name": "python",
   "nbconvert_exporter": "python",
   "pygments_lexer": "ipython3",
   "version": "3.8.6"
  }
 },
 "nbformat": 4,
 "nbformat_minor": 4
}
