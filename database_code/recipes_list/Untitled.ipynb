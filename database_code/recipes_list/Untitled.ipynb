{
 "cells": [
  {
   "cell_type": "code",
   "execution_count": 1,
   "metadata": {},
   "outputs": [],
   "source": [
    "\"\"\" read from a SQLite database and return data to templates \"\"\"\n",
    "\n",
    "from flask import Flask, render_template\n",
    "from flask_sqlalchemy import SQLAlchemy\n",
    "from flask_bootstrap import Bootstrap\n",
    "from sqlalchemy.sql import text\n",
    "from sqlalchemy import create_engine\n",
    "\n",
    "app = Flask(__name__)\n",
    "\n",
    "# Flask-Bootstrap requires this line\n",
    "Bootstrap(app)\n",
    "\n",
    "# the name of the database; add path if necessary\n",
    "db_name = 'recipes_data.db'\n",
    "\n",
    "app.config['SQLALCHEMY_DATABASE_URI'] = 'sqlite:///' + db_name\n",
    "\n",
    "app.config['SQLALCHEMY_TRACK_MODIFICATIONS'] = True\n",
    "\n",
    "# this variable, db, will be used for all SQLAlchemy commands\n",
    "db = SQLAlchemy(app)\n",
    "\n",
    "# each table in the database needs a class to be created for it\n",
    "# db.Model is required - don't change it\n",
    "# identify all columns by name and data type\n",
    "class Recipe(db.Model):\n",
    "    __tablename__ = 'recipes'\n",
    "    id = db.Column(db.Integer, primary_key=True)\n",
    "    timestamp_entered = db.Column(db.String)\n",
    "    timestamp_prepared = db.Column(db.String)\n",
    "    URL = db.Column(db.String)\n",
    "    title = db.Column(db.String)\n",
    "    keywords = db.Column(db.String)\n",
    "    ingredients = db.Column(db.String)\n",
    "    instructions = db.Column(db.String)\n",
    "    notes = db.Column(db.String)\n",
    "    make_again = db.Column(db.Integer)\n",
    "    things_to_try = db.Column(db.String)\n",
    "    image = db.Column(db.String)\n",
    "    category = db.Column(db.String)"
   ]
  },
  {
   "cell_type": "code",
   "execution_count": 2,
   "metadata": {},
   "outputs": [],
   "source": [
    "categories = list(Recipe.query.with_entities(Recipe.category).distinct())"
   ]
  },
  {
   "cell_type": "code",
   "execution_count": 3,
   "metadata": {},
   "outputs": [
    {
     "data": {
      "text/plain": [
       "'Discrete'"
      ]
     },
     "execution_count": 3,
     "metadata": {},
     "output_type": "execute_result"
    }
   ],
   "source": [
    "list(Recipe.query.with_entities(Recipe.category).distinct())[0].category"
   ]
  },
  {
   "cell_type": "code",
   "execution_count": 4,
   "metadata": {},
   "outputs": [],
   "source": [
    "categories = Recipe.query.with_entities(Recipe.category).distinct()\n",
    "categories_list = [c.category for c in categories]"
   ]
  },
  {
   "cell_type": "code",
   "execution_count": 5,
   "metadata": {},
   "outputs": [],
   "source": [
    "recipe_data = db.session.query(Recipe.title,Recipe.id).from_statement(text(\"SELECT * from recipes where ingredients like '%tofu%'\")).all()"
   ]
  },
  {
   "cell_type": "code",
   "execution_count": 6,
   "metadata": {},
   "outputs": [
    {
     "ename": "AttributeError",
     "evalue": "'result' object has no attribute 'image'",
     "output_type": "error",
     "traceback": [
      "\u001b[0;31m---------------------------------------------------------------------------\u001b[0m",
      "\u001b[0;31mAttributeError\u001b[0m                            Traceback (most recent call last)",
      "\u001b[0;32m<ipython-input-6-c78bdae08e78>\u001b[0m in \u001b[0;36m<module>\u001b[0;34m\u001b[0m\n\u001b[0;32m----> 1\u001b[0;31m \u001b[0;34m[\u001b[0m\u001b[0mx\u001b[0m\u001b[0;34m.\u001b[0m\u001b[0mimage\u001b[0m \u001b[0;32mfor\u001b[0m \u001b[0mx\u001b[0m \u001b[0;32min\u001b[0m \u001b[0mrecipe_data\u001b[0m\u001b[0;34m]\u001b[0m\u001b[0;34m\u001b[0m\u001b[0;34m\u001b[0m\u001b[0m\n\u001b[0m",
      "\u001b[0;32m<ipython-input-6-c78bdae08e78>\u001b[0m in \u001b[0;36m<listcomp>\u001b[0;34m(.0)\u001b[0m\n\u001b[0;32m----> 1\u001b[0;31m \u001b[0;34m[\u001b[0m\u001b[0mx\u001b[0m\u001b[0;34m.\u001b[0m\u001b[0mimage\u001b[0m \u001b[0;32mfor\u001b[0m \u001b[0mx\u001b[0m \u001b[0;32min\u001b[0m \u001b[0mrecipe_data\u001b[0m\u001b[0;34m]\u001b[0m\u001b[0;34m\u001b[0m\u001b[0;34m\u001b[0m\u001b[0m\n\u001b[0m",
      "\u001b[0;31mAttributeError\u001b[0m: 'result' object has no attribute 'image'"
     ]
    }
   ],
   "source": [
    "[x.image for x in recipe_data]"
   ]
  },
  {
   "cell_type": "code",
   "execution_count": 7,
   "metadata": {},
   "outputs": [
    {
     "data": {
      "text/plain": [
       "[<Recipe 2>, <Recipe 4>]"
      ]
     },
     "execution_count": 7,
     "metadata": {},
     "output_type": "execute_result"
    }
   ],
   "source": [
    "Recipe.query.from_statement(text(\"SELECT * from recipes where ingredients like '%tofu%'\")).all()"
   ]
  },
  {
   "cell_type": "code",
   "execution_count": 8,
   "metadata": {},
   "outputs": [
    {
     "data": {
      "text/plain": [
       "[<Recipe 5>, <Recipe 3>, <Recipe 4>, <Recipe 2>, <Recipe 1>]"
      ]
     },
     "execution_count": 8,
     "metadata": {},
     "output_type": "execute_result"
    }
   ],
   "source": [
    "Recipe.query.order_by(Recipe.title).all()"
   ]
  },
  {
   "cell_type": "code",
   "execution_count": 12,
   "metadata": {},
   "outputs": [
    {
     "data": {
      "text/plain": [
       "'wellington.jpg'"
      ]
     },
     "execution_count": 12,
     "metadata": {},
     "output_type": "execute_result"
    }
   ],
   "source": [
    "recipe = Recipe.query.filter_by(id=1).order_by(Recipe.title).all()\n",
    "recipe[0].image"
   ]
  },
  {
   "cell_type": "code",
   "execution_count": 10,
   "metadata": {},
   "outputs": [],
   "source": [
    "recipe_id=1\n",
    "recipe = Recipe.query.filter_by(id=recipe_id).order_by(Recipe.title).all()"
   ]
  },
  {
   "cell_type": "code",
   "execution_count": 11,
   "metadata": {},
   "outputs": [
    {
     "data": {
      "text/plain": [
       "'Vegan Wellington'"
      ]
     },
     "execution_count": 11,
     "metadata": {},
     "output_type": "execute_result"
    }
   ],
   "source": [
    "recipe[0].title"
   ]
  },
  {
   "cell_type": "code",
   "execution_count": 54,
   "metadata": {},
   "outputs": [],
   "source": [
    "ingredients = [i.ingredients for i in Recipe.query.with_entities(Recipe.ingredients).distinct()]\n",
    "a = [x.split(',') for x in ingredients]\n",
    "ingredients_list = sorted([x.strip() for x in list(itertools.chain.from_iterable(a))])"
   ]
  },
  {
   "cell_type": "code",
   "execution_count": 55,
   "metadata": {},
   "outputs": [
    {
     "data": {
      "text/plain": [
       "['a whole lotta gumption',\n",
       " 'beets',\n",
       " 'breading shit',\n",
       " 'literally just some garbage',\n",
       " 'tofu',\n",
       " 'vital wheat gluten']"
      ]
     },
     "execution_count": 55,
     "metadata": {},
     "output_type": "execute_result"
    }
   ],
   "source": [
    "ingredients_list"
   ]
  },
  {
   "cell_type": "code",
   "execution_count": null,
   "metadata": {},
   "outputs": [],
   "source": [
    "#routes\n",
    "@app.route('/')\n",
    "def index():\n",
    "    try:\n",
    "        categories = Recipe.query.with_entities(Recipe.category).distinct()\n",
    "        return render_template('index.html', categories=categories)\n",
    "    except Exception as e:\n",
    "        # e holds description of the error\n",
    "        error_text = \"<p>The error:<br>\" + str(e) + \"</p>\"\n",
    "        hed = '<h1>Something is broken.</h1>'\n",
    "        return hed + error_text\n",
    "\n",
    "\n",
    "@app.route('/inventory/<category>')\n",
    "def inventory(category):\n",
    "    try:\n",
    "        recipes = Recipe.query.filter_by(category=category).order_by(Recipe.title).all()\n",
    "        return render_template('list.html', recipes=recipes, category=category)\n",
    "    except Exception as e:\n",
    "        # e holds description of the error\n",
    "        error_text = \"<p>The error:<br>\" + str(e) + \"</p>\"\n",
    "        hed = '<h1>Something is broken.</h1>'\n",
    "        return hed + error_text\n",
    "\n",
    "\n",
    "if __name__ == '__main__':\n",
    "    app.run(debug=True)"
   ]
  }
 ],
 "metadata": {
  "kernelspec": {
   "display_name": "Python 3",
   "language": "python",
   "name": "python3"
  },
  "language_info": {
   "codemirror_mode": {
    "name": "ipython",
    "version": 3
   },
   "file_extension": ".py",
   "mimetype": "text/x-python",
   "name": "python",
   "nbconvert_exporter": "python",
   "pygments_lexer": "ipython3",
   "version": "3.8.6"
  }
 },
 "nbformat": 4,
 "nbformat_minor": 4
}
