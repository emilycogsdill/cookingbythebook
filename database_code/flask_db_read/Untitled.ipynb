{
 "cells": [
  {
   "cell_type": "code",
   "execution_count": 8,
   "metadata": {},
   "outputs": [],
   "source": [
    "\"\"\" read from a SQLite database and return data to templates \"\"\"\n",
    "\n",
    "from flask import Flask, render_template\n",
    "from flask_sqlalchemy import SQLAlchemy\n",
    "from flask_bootstrap import Bootstrap\n",
    "\n",
    "app = Flask(__name__)\n",
    "\n",
    "# Flask-Bootstrap requires this line\n",
    "Bootstrap(app)\n",
    "\n",
    "# the name of the database; add path if necessary\n",
    "db_name = 'sockmarket.db'\n",
    "\n",
    "app.config['SQLALCHEMY_DATABASE_URI'] = 'sqlite:///' + db_name\n",
    "\n",
    "app.config['SQLALCHEMY_TRACK_MODIFICATIONS'] = True\n",
    "\n",
    "# this variable, db, will be used for all SQLAlchemy commands\n",
    "db = SQLAlchemy(app)\n",
    "\n",
    "# each table in the database needs a class to be created for it\n",
    "# db.Model is required - don't change it\n",
    "# identify all columns by name and data type\n",
    "class Sock(db.Model):\n",
    "    __tablename__ = 'socks'\n",
    "    id = db.Column(db.Integer, primary_key=True)\n",
    "    name = db.Column(db.String)\n",
    "    style = db.Column(db.String)\n",
    "    color = db.Column(db.String)\n",
    "    quantity = db.Column(db.Integer)\n",
    "    price = db.Column(db.Float)\n",
    "    updated = db.Column(db.String)"
   ]
  },
  {
   "cell_type": "code",
   "execution_count": 11,
   "metadata": {},
   "outputs": [
    {
     "name": "stdout",
     "output_type": "stream",
     "text": [
      "[('knee-high',), ('ankle',), ('mini',), ('other',)]\n"
     ]
    }
   ],
   "source": [
    "print(list(Sock.query.with_entities(Sock.style).distinct()))"
   ]
  },
  {
   "cell_type": "code",
   "execution_count": null,
   "metadata": {},
   "outputs": [],
   "source": [
    "#routes\n",
    "\n",
    "@app.route('/')\n",
    "def index():\n",
    "    # get a list of unique values in the style column\n",
    "    styles = Sock.query.with_entities(Sock.style).distinct()\n",
    "    return render_template('index.html', styles=styles)\n",
    "\n",
    "\n",
    "@app.route('/inventory/<style>')\n",
    "def inventory(style):\n",
    "    try:\n",
    "        socks = Sock.query.filter_by(style=style).order_by(Sock.name).all()\n",
    "        return render_template('list.html', socks=socks, style=style)\n",
    "    except Exception as e:\n",
    "        # e holds description of the error\n",
    "        error_text = \"<p>The error:<br>\" + str(e) + \"</p>\"\n",
    "        hed = '<h1>Something is broken.</h1>'\n",
    "        return hed + error_text\n",
    "\n",
    "\n",
    "if __name__ == '__main__':\n",
    "    app.run(debug=True)"
   ]
  }
 ],
 "metadata": {
  "kernelspec": {
   "display_name": "Python 3",
   "language": "python",
   "name": "python3"
  },
  "language_info": {
   "codemirror_mode": {
    "name": "ipython",
    "version": 3
   },
   "file_extension": ".py",
   "mimetype": "text/x-python",
   "name": "python",
   "nbconvert_exporter": "python",
   "pygments_lexer": "ipython3",
   "version": "3.8.6"
  }
 },
 "nbformat": 4,
 "nbformat_minor": 4
}
