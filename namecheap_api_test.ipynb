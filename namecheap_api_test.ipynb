{
 "cells": [
  {
   "cell_type": "code",
   "execution_count": 1,
   "metadata": {},
   "outputs": [],
   "source": [
    "import requests\n",
    "from os import environ"
   ]
  },
  {
   "cell_type": "code",
   "execution_count": 6,
   "metadata": {},
   "outputs": [],
   "source": [
    "# create a dictionary to hold all the URL params we might desire\n",
    "params_dict = {\n",
    "}\n",
    "\n",
    "params_dict['apiuser'] = environ[\"NAMECHEAP_USERNAME\"]\n",
    "params_dict['username'] = environ[\"NAMECHEAP_USERNAME\"]\n",
    "params_dict['apikey'] = environ[\"NAMECHEAP_SANDBOX_API_KEY\"]\n",
    "params_dict['HostName'] = 'apitest'\n",
    "params_dict['Command'] = 'namecheap.domains.dns.setHosts'\n",
    "params_dict['ClientIp'] = environ[\"NAMECHEAP_CLIENT_IP\"]\n",
    "params_dict['SLD'] = 'is'\n",
    "params_dict['TLD'] = 'gay'\n",
    "params_dict['HostName'] = '@'\n",
    "params_dict['RecordType'] = 'URL'\n",
    "params_dict['Address'] = 'http://www.namecheap.com'\n",
    "params_dict['TTL'] = '100'\n",
    "\n",
    "\n",
    "#apiuser = environ[\"NAMECHEAP_USERNAME\"]\n",
    "#username = environ[\"NAMECHEAP_USERNAME\"]\n",
    "#apikey_dev = environ[\"NAMECHEAP_SANDBOX_API_KEY\"]\n",
    "#apikey_prod = environ[\"NAMECHEAP_SANDBOX_API_KEY\"]\n",
    "#HostName1='URL'\n",
    "#Command='namecheap.domains.dns.setHosts'\n"
   ]
  },
  {
   "cell_type": "code",
   "execution_count": 29,
   "metadata": {},
   "outputs": [],
   "source": [
    "# join the URL params together\n",
    "url_params=''\n",
    "for k, v in params_dict.items():\n",
    "    url_params=url_params+\"&\"+k+\"=\"+v\n",
    "    \n",
    "# drop the initial ampersand\n",
    "url_params=\"?\"+url_params[1:]\n",
    "\n",
    "# construct the URL for the request\n",
    "url_base = \"https://api.namecheap.com/xml.response\"\n",
    "\n",
    "url=url_base+url_params\n",
    "\n",
    "# make API request\n",
    "response = requests.get(url)"
   ]
  },
  {
   "cell_type": "code",
   "execution_count": 30,
   "metadata": {},
   "outputs": [
    {
     "data": {
      "text/plain": [
       "b'<?xml version=\"1.0\" encoding=\"utf-8\"?>\\r\\n<ApiResponse Status=\"ERROR\" xmlns=\"http://api.namecheap.com/xml.response\">\\r\\n  <Errors>\\r\\n    <Error Number=\"1011102\">API Key is invalid or API access has not been enabled</Error>\\r\\n  </Errors>\\r\\n  <Warnings />\\r\\n  <RequestedCommand />\\r\\n  <Server>PHX01APIEXT04</Server>\\r\\n  <GMTTimeDifference>--5:00</GMTTimeDifference>\\r\\n  <ExecutionTime>0</ExecutionTime>\\r\\n</ApiResponse>'"
      ]
     },
     "execution_count": 30,
     "metadata": {},
     "output_type": "execute_result"
    }
   ],
   "source": [
    "response.content"
   ]
  },
  {
   "cell_type": "code",
   "execution_count": null,
   "metadata": {},
   "outputs": [],
   "source": []
  }
 ],
 "metadata": {
  "kernelspec": {
   "display_name": "Python 3",
   "language": "python",
   "name": "python3"
  },
  "language_info": {
   "codemirror_mode": {
    "name": "ipython",
    "version": 3
   },
   "file_extension": ".py",
   "mimetype": "text/x-python",
   "name": "python",
   "nbconvert_exporter": "python",
   "pygments_lexer": "ipython3",
   "version": "3.8.6"
  }
 },
 "nbformat": 4,
 "nbformat_minor": 4
}
